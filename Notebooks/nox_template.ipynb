{
 "cells": [
  {
   "cell_type": "markdown",
   "id": "934123c0-b2ff-4cb7-b9fc-b0708078e19f",
   "metadata": {
    "slideshow": {
     "slide_type": "slide"
    },
    "tags": []
   },
   "source": [
    "# LUX Local analysis notebook"
   ]
  },
  {
   "cell_type": "code",
   "execution_count": null,
   "id": "65cb4d10-88eb-44a0-b0b3-e945de2b5bfe",
   "metadata": {
    "editable": true,
    "slideshow": {
     "slide_type": "skip"
    },
    "tags": []
   },
   "outputs": [],
   "source": [
    "import warnings\n",
    "import os\n",
    "# Define writable cache directories to avoid container errors\n",
    "# 1. For Matplotlib's own cache\n",
    "os.environ['MPLCONFIGDIR'] = os.path.join(os.getcwd(), \".matplotlib_cache\")\n",
    "# 2. For the fontconfig library cache\n",
    "os.environ['XDG_CACHE_HOME'] = os.path.join(os.getcwd(), \".cache\")\n",
    "\n",
    "import plotly.io as pio\n",
    "pio.renderers.default = 'notebook'\n",
    "from lux_noctis.lux_qc import LuxFragPipeProtein, CorrelationMatrix\n",
    "from lux_noctis.goe import Go\n",
    "from IPython.display import HTML\n",
    "import re\n",
    "import json"
   ]
  },
  {
   "cell_type": "markdown",
   "id": "4587aa77-de5f-4fc1-bee7-4c83af880591",
   "metadata": {
    "editable": true,
    "slideshow": {
     "slide_type": "skip"
    },
    "tags": []
   },
   "source": [
    "## User defined parameters\n",
    "\n",
    "Adjust these parameters to match FragPipe being QCed.\n",
    "\n",
    "For a basic analysis, these are all only parameters that should be changed in the notebook."
   ]
  },
  {
   "cell_type": "code",
   "execution_count": null,
   "id": "569b9d6e-edbc-4a4e-a406-4b56b2080e8a",
   "metadata": {
    "editable": true,
    "slideshow": {
     "slide_type": "skip"
    },
    "tags": [
     "parameters"
    ]
   },
   "outputs": [],
   "source": [
    "# The labels for the 2 classes that will be compared for differential abundance\n",
    "class_label1 = None\n",
    "class_label2 = None\n",
    "\n",
    "# The folder with the outpu of the FragPipe analysis\n",
    "input_folder = '../FragPipe'\n",
    "\n",
    "# Uniprot annotation for proteins searched by FragPipe.\n",
    "# Can be generated via lux_noctis.download_uniprot_annotation()\n",
    "uniprot_annotation_filename = '/mnt/wollscheid/Databases/uniprot_annotation.tsv'\n",
    "\n",
    "# Surfy annotation file.\n",
    "# Can by generated via lux_noctis.download_surfy()\n",
    "surfy_filename = \"/mnt/wollscheid/Databases/surfy.txt\"\n",
    "\n",
    "# Quantile threshold for removing proteins with low abundance values\n",
    "quantile_threshold = 0.25\n",
    "\n",
    "# Minimum number of peptide a protein has to have to be considered\n",
    "min_peptide_count = 2\n",
    "\n",
    "# Should the data be median normalized?\n",
    "normalize = True\n",
    "\n",
    "# Should missing values be imputed?\n",
    "impute = False\n",
    "\n",
    "# Should the data be filtered based on CVs?\n",
    "filter_cv = True\n",
    "\n",
    "# Drop all samples that are not class_label1 or class_label2\n",
    "reduce_to_labels = False\n",
    "\n",
    "# List of samples to drop\n",
    "drop_samples = []\n",
    "\n",
    "# Links to GO files\n",
    "gaf_filename = '/mnt/wollscheid/Databases/goa_human.gaf'\n",
    "obo_filename = '/mnt/wollscheid/Databases/go-basic.obo'"
   ]
  },
  {
   "cell_type": "code",
   "execution_count": null,
   "id": "d61b687f-3588-4440-9aca-d46ecdc6c291",
   "metadata": {
    "editable": true,
    "slideshow": {
     "slide_type": "skip"
    },
    "tags": []
   },
   "outputs": [],
   "source": [
    "# If passed by papermill we get a string that needs to be conveted\n",
    "# to a python list\n",
    "if isinstance(drop_samples, str):\n",
    "    drop_samples = json.loads(drop_samples.replace(\"'\", '\"'))\n",
    "\n",
    "# Main class initialization\n",
    "lux = LuxFragPipeProtein(\n",
    "    input_folder=input_folder,\n",
    "    #uniprot_annotation_filename=\"/mnt/phrt/Webtop/Databases/uniprotkb_AND_reviewed_true_AND_model_o_2023_07_13.tsv\",\n",
    "    uniprot_annotation_filename=uniprot_annotation_filename,\n",
    "    surfy_filename=surfy_filename,\n",
    "    quantile_threshold=quantile_threshold,\n",
    "    min_peptide_count=min_peptide_count,\n",
    "    reduce_to_labels=reduce_to_labels,\n",
    "    class_label1=class_label1,\n",
    "    class_label2=class_label2,\n",
    "    drop_samples=drop_samples\n",
    ")\n",
    "\n",
    "# GO enrichment class initialization\n",
    "goa = Go(\n",
    "    gaf_filename=gaf_filename,\n",
    "    obo_filename=obo_filename\n",
    ")"
   ]
  },
  {
   "cell_type": "markdown",
   "id": "eff9b824-83cc-40f2-80ea-c9e7b96fe501",
   "metadata": {
    "editable": true,
    "slideshow": {
     "slide_type": "slide"
    },
    "tags": []
   },
   "source": [
    "## Overview of protein identifications across runs"
   ]
  },
  {
   "cell_type": "markdown",
   "id": "b3ce4401-b49d-4780-a4b2-c5ab185c8c8f",
   "metadata": {
    "slideshow": {
     "slide_type": "skip"
    },
    "tags": []
   },
   "source": [
    "We start off by looking at the distribution of protein identifications across samples and classes."
   ]
  },
  {
   "cell_type": "markdown",
   "id": "10169d78-ba1b-45f6-8440-e967d67a7b37",
   "metadata": {
    "slideshow": {
     "slide_type": "subslide"
    },
    "tags": []
   },
   "source": [
    "### Total protein identifications per sample"
   ]
  },
  {
   "cell_type": "markdown",
   "id": "a4fafa41-b005-473c-b5b5-4e3ae74519f6",
   "metadata": {
    "slideshow": {
     "slide_type": "skip"
    },
    "tags": []
   },
   "source": [
    "**What to look for:**  \n",
    "- In LuxLocal the bulk of protein identifications is composed of contaminants. \n",
    "Therefore we expect little variation across the classes."
   ]
  },
  {
   "cell_type": "code",
   "execution_count": null,
   "id": "2a5ad3a1-f667-4cac-8380-9496d9103fb5",
   "metadata": {
    "slideshow": {
     "slide_type": "fragment"
    },
    "tags": []
   },
   "outputs": [],
   "source": [
    "lux.plot_proteins_per_sample()"
   ]
  },
  {
   "cell_type": "markdown",
   "id": "20c1c600-92e9-48bd-a430-34305f773782",
   "metadata": {
    "slideshow": {
     "slide_type": "subslide"
    },
    "tags": []
   },
   "source": [
    "### Distribution of protein identifications across samples\n",
    "\n",
    "**NOTA BENE**: only classes with at least 10 protein ids are shown"
   ]
  },
  {
   "cell_type": "markdown",
   "id": "c826af95-b3e3-4053-9558-91a6e3fa4a9d",
   "metadata": {
    "slideshow": {
     "slide_type": "skip"
    },
    "tags": []
   },
   "source": [
    "**What to look for:**  \n",
    "- In LuxLocal the bulk of protein identifications is composed of contaminants. Therefore we expect little variation across the samples."
   ]
  },
  {
   "cell_type": "code",
   "execution_count": null,
   "id": "14f4624f-6230-45e1-afd5-a6f7f25da650",
   "metadata": {
    "slideshow": {
     "slide_type": "fragment"
    },
    "tags": []
   },
   "outputs": [],
   "source": [
    "with warnings.catch_warnings():\n",
    "    # Suppress future warnings for external code\n",
    "    warnings.simplefilter(\"ignore\", category=FutureWarning)\n",
    "    lux.plot_upset_proteins(10)"
   ]
  },
  {
   "cell_type": "markdown",
   "id": "6da45fd5-a410-4f7a-9e5e-69719f52fa57",
   "metadata": {
    "slideshow": {
     "slide_type": "slide"
    },
    "tags": []
   },
   "source": [
    "## Overview of protein abundances across runs"
   ]
  },
  {
   "cell_type": "markdown",
   "id": "ff1ea2e9-becc-4a5d-9c5f-f53317f41311",
   "metadata": {
    "slideshow": {
     "slide_type": "skip"
    },
    "tags": []
   },
   "source": [
    "This is were start looking at the distributions of protein abundances across classes/samples."
   ]
  },
  {
   "cell_type": "markdown",
   "id": "b2b4389c-3507-4a65-9dc7-77e6f2473e21",
   "metadata": {
    "slideshow": {
     "slide_type": "subslide"
    },
    "tags": []
   },
   "source": [
    "### Unnormalized protein abundances"
   ]
  },
  {
   "cell_type": "markdown",
   "id": "3a4fba75-3ac5-4cb3-9086-8655781e23fd",
   "metadata": {
    "slideshow": {
     "slide_type": "skip"
    },
    "tags": []
   },
   "source": [
    "**What to look for:**  \n",
    "- In LuxLocal the bulk of protein identifications is composed of contaminants. Therefore we expect similar distributions and equal medians."
   ]
  },
  {
   "cell_type": "code",
   "execution_count": null,
   "id": "f8fe7696-7f6b-479a-a813-aa8bb4e00b49",
   "metadata": {
    "slideshow": {
     "slide_type": "fragment"
    },
    "tags": []
   },
   "outputs": [],
   "source": [
    "lux.plot_intensity_distributions_across_samples()"
   ]
  },
  {
   "cell_type": "markdown",
   "id": "76052e5a-dbd8-49d9-831b-686d509cbc2d",
   "metadata": {
    "slideshow": {
     "slide_type": "subslide"
    },
    "tags": []
   },
   "source": [
    "### Median normalized protein abundances"
   ]
  },
  {
   "cell_type": "markdown",
   "id": "e8abab3f-e723-4d7b-8790-cabf50854285",
   "metadata": {
    "slideshow": {
     "slide_type": "skip"
    },
    "tags": []
   },
   "source": [
    "If the prior plot show unequal medians we can median normalize protein abundances."
   ]
  },
  {
   "cell_type": "markdown",
   "id": "e8dbbe54-3c96-48c8-a117-7f8a2378cd87",
   "metadata": {
    "slideshow": {
     "slide_type": "skip"
    },
    "tags": []
   },
   "source": [
    "**What to look for:** \n",
    "\n",
    "- After median normalization the abundance distributions should be very similar to each other.\n",
    "\n",
    "If this is not the case, more complex normalization/batch correction might be required."
   ]
  },
  {
   "cell_type": "code",
   "execution_count": null,
   "id": "aa172731-3a0a-4b1c-9f8e-fc1b001a584f",
   "metadata": {
    "slideshow": {
     "slide_type": "fragment"
    },
    "tags": []
   },
   "outputs": [],
   "source": [
    "if normalize:\n",
    "    lux.normalize_protein_abundance()\n",
    "    lux.plot_intensity_distributions_across_samples()"
   ]
  },
  {
   "cell_type": "markdown",
   "id": "aae65750-3385-4f01-a51d-192bbcf49884",
   "metadata": {
    "slideshow": {
     "slide_type": "subslide"
    },
    "tags": []
   },
   "source": [
    "### Imputed"
   ]
  },
  {
   "cell_type": "markdown",
   "id": "350c73f6-30a3-4c93-ad37-9c3dd82b6e6d",
   "metadata": {
    "slideshow": {
     "slide_type": "skip"
    },
    "tags": []
   },
   "source": [
    "If desired missig values can be imputed.\n",
    "\n",
    "Note, that a very simple imputation is used. Nans are filled with the minimum intensity measured in the corresponding sample minus a random percentage (between 1 and 10%) of said value.\n",
    "\n",
    "Note, imputing is probably a bad idea and should not be used without a good reason."
   ]
  },
  {
   "cell_type": "code",
   "execution_count": null,
   "id": "5b080678-d563-4d5d-9357-f925d6416ae9",
   "metadata": {
    "slideshow": {
     "slide_type": "fragment"
    },
    "tags": []
   },
   "outputs": [],
   "source": [
    "if impute:\n",
    "    lux.impute_protein_abundance()\n",
    "    lux.plot_intensity_distributions_across_samples()"
   ]
  },
  {
   "cell_type": "markdown",
   "id": "52de9bf3-c71e-4ff4-b077-16bb728e9116",
   "metadata": {
    "slideshow": {
     "slide_type": "slide"
    },
    "tags": []
   },
   "source": [
    "## Coefficient of variation"
   ]
  },
  {
   "cell_type": "markdown",
   "id": "f866364c-b889-4269-a51a-fc8eeb418296",
   "metadata": {
    "slideshow": {
     "slide_type": "skip"
    },
    "tags": []
   },
   "source": [
    "Next we have a look at the coefficient of variation across the classes."
   ]
  },
  {
   "cell_type": "markdown",
   "id": "161b23a0-97f4-419f-9ba9-9d381d542549",
   "metadata": {
    "slideshow": {
     "slide_type": "skip"
    },
    "tags": []
   },
   "source": [
    "**What to look for:**  \n",
    "- In label free quantification we are normally looking for CVs below 20%"
   ]
  },
  {
   "cell_type": "markdown",
   "id": "c8a651c4-1d7e-4c1a-bd4b-32874287e030",
   "metadata": {
    "slideshow": {
     "slide_type": "subslide"
    },
    "tags": []
   },
   "source": [
    "### Initial"
   ]
  },
  {
   "cell_type": "code",
   "execution_count": null,
   "id": "a158e50b-bd02-4c5d-b11a-6f77f7ea4561",
   "metadata": {
    "slideshow": {
     "slide_type": "fragment"
    },
    "tags": []
   },
   "outputs": [],
   "source": [
    "lux.plot_cv()"
   ]
  },
  {
   "cell_type": "markdown",
   "id": "ffd671f9-79fc-44b9-b096-a95046fae562",
   "metadata": {
    "slideshow": {
     "slide_type": "subslide"
    },
    "tags": []
   },
   "source": [
    "### Filtered"
   ]
  },
  {
   "cell_type": "markdown",
   "id": "5022fcd7-2d05-4dd2-aece-c2ac5376164f",
   "metadata": {
    "slideshow": {
     "slide_type": "notes"
    },
    "tags": []
   },
   "source": [
    "If desired the dataset can be filtered to remove proteins with high CVs.\n",
    "\n",
    "By default all proteins with CV higher than 20 in all classes are removed."
   ]
  },
  {
   "cell_type": "code",
   "execution_count": null,
   "id": "960b53d2-bffd-4e8b-b4b9-96661ac3b441",
   "metadata": {
    "slideshow": {
     "slide_type": "fragment"
    },
    "tags": []
   },
   "outputs": [],
   "source": [
    "if filter_cv:\n",
    "    lux.filter_by_cv()\n",
    "    lux.plot_cv()"
   ]
  },
  {
   "cell_type": "markdown",
   "id": "12f9979b-3e41-44f1-9fbc-31a655e21a10",
   "metadata": {
    "slideshow": {
     "slide_type": "slide"
    },
    "tags": []
   },
   "source": [
    "## Overview of sample similarities"
   ]
  },
  {
   "cell_type": "markdown",
   "id": "8502107b-9be4-4db8-85ef-a3ac9909f51e",
   "metadata": {
    "slideshow": {
     "slide_type": "skip"
    },
    "tags": []
   },
   "source": [
    "Next we have a look at sample similarities across classes."
   ]
  },
  {
   "cell_type": "markdown",
   "id": "48552b03-2d92-40fb-ad0d-8744165a7a87",
   "metadata": {
    "slideshow": {
     "slide_type": "subslide"
    },
    "tags": []
   },
   "source": [
    "### Intensity based clustering"
   ]
  },
  {
   "cell_type": "markdown",
   "id": "f318bd21-7964-434a-9048-94c214dbfbce",
   "metadata": {
    "slideshow": {
     "slide_type": "skip"
    },
    "tags": []
   },
   "source": [
    "First we test a simple clustering by protein intensity."
   ]
  },
  {
   "cell_type": "markdown",
   "id": "e5e3aad4-3b43-4683-8e7d-2fb64ad0913c",
   "metadata": {
    "slideshow": {
     "slide_type": "skip"
    },
    "tags": []
   },
   "source": [
    "**What to look for:**  \n",
    "\n",
    "- We would like to see samples from the same class clustering together.\n",
    "- We should also make sure that we don't have too many missing values."
   ]
  },
  {
   "cell_type": "code",
   "execution_count": null,
   "id": "7d8e26a5-c464-44f8-ab2a-3e9ca30620aa",
   "metadata": {
    "slideshow": {
     "slide_type": "fragment"
    },
    "tags": []
   },
   "outputs": [],
   "source": [
    "lux.plot_abundance_clustermap()"
   ]
  },
  {
   "cell_type": "markdown",
   "id": "1c5666da-b260-4bd8-825c-09e85404b233",
   "metadata": {
    "slideshow": {
     "slide_type": "subslide"
    },
    "tags": []
   },
   "source": [
    "### Correlation based clustering"
   ]
  },
  {
   "cell_type": "markdown",
   "id": "d3814f3c-7088-4d00-9aaf-13fda1187217",
   "metadata": {
    "slideshow": {
     "slide_type": "skip"
    },
    "tags": []
   },
   "source": [
    "Second we test a correlation based clustering."
   ]
  },
  {
   "cell_type": "markdown",
   "id": "988d443f-4425-4b82-a7e1-a5febb937e73",
   "metadata": {
    "slideshow": {
     "slide_type": "skip"
    },
    "tags": []
   },
   "source": [
    "**What to look for:**  \n",
    "\n",
    "- We would like to see samples from the same class clustering together."
   ]
  },
  {
   "cell_type": "code",
   "execution_count": null,
   "id": "72a2ca64-d6c5-4847-b980-e0650be43fba",
   "metadata": {
    "slideshow": {
     "slide_type": "fragment"
    },
    "tags": []
   },
   "outputs": [],
   "source": [
    "lux.plot_corr_clustermap(figsize=(10,10))"
   ]
  },
  {
   "cell_type": "markdown",
   "id": "603479c1-c66a-4f70-89ec-bc3be994a5e9",
   "metadata": {
    "slideshow": {
     "slide_type": "subslide"
    },
    "tags": []
   },
   "source": [
    "### PCA clustering"
   ]
  },
  {
   "cell_type": "markdown",
   "id": "514a82bd-daa1-4925-93e4-3da688e99447",
   "metadata": {
    "slideshow": {
     "slide_type": "skip"
    },
    "tags": []
   },
   "source": [
    "Finally we try to cluster the samples by principla component analysis."
   ]
  },
  {
   "cell_type": "markdown",
   "id": "72516659-64de-4743-b967-adf6c635d3d5",
   "metadata": {
    "slideshow": {
     "slide_type": "skip"
    },
    "tags": []
   },
   "source": [
    "**What to look for:**  \n",
    "\n",
    "- We would like samples from the same class clustering together."
   ]
  },
  {
   "cell_type": "code",
   "execution_count": null,
   "id": "51851592-5255-40e0-bc6a-521fb3f7df95",
   "metadata": {
    "slideshow": {
     "slide_type": "fragment"
    },
    "tags": []
   },
   "outputs": [],
   "source": [
    "lux.plot_pca()"
   ]
  },
  {
   "cell_type": "markdown",
   "id": "8d74df66-27e3-43ac-b6b2-2e6525854e75",
   "metadata": {
    "slideshow": {
     "slide_type": "slide"
    },
    "tags": []
   },
   "source": [
    "## Differential abundance"
   ]
  },
  {
   "cell_type": "markdown",
   "id": "58f3de46-8498-4d79-8b58-0f5e8103d55f",
   "metadata": {
    "slideshow": {
     "slide_type": "skip"
    },
    "tags": []
   },
   "source": [
    "In this section we compare protein abundances in desired classes."
   ]
  },
  {
   "cell_type": "markdown",
   "id": "b1f387b7-c636-481a-8de4-47ff48ae845a",
   "metadata": {
    "slideshow": {
     "slide_type": "skip"
    },
    "tags": []
   },
   "source": [
    "### Bayes moderated t-test\n",
    "\n",
    "We implement the bayes moderated t-test workflow with Benjamini-Hochberg correction from limma."
   ]
  },
  {
   "cell_type": "markdown",
   "id": "6ad5f183-b397-4942-9085-2337c48b35d6",
   "metadata": {
    "slideshow": {
     "slide_type": "skip"
    },
    "tags": []
   },
   "source": [
    "**NOTA BENE**\n",
    "\n",
    "Even though we are only interested in 2 classes, if additional samples are present, these are kept in the analysis to increase statistical power.  \n",
    "If this is not desired behaviour, adjust the third parameter (class_labels) of limma_ttest()."
   ]
  },
  {
   "cell_type": "code",
   "execution_count": null,
   "id": "4c700739-6977-433e-9b28-752aac4f462e",
   "metadata": {
    "slideshow": {
     "slide_type": "skip"
    },
    "tags": []
   },
   "outputs": [],
   "source": [
    "_ = lux.limma_ttest(class_label1, class_label2, lux.experiment_annotation['class'].unique())"
   ]
  },
  {
   "cell_type": "markdown",
   "id": "ae150435-05f7-4e9b-aa4f-9b59c81040b2",
   "metadata": {
    "slideshow": {
     "slide_type": "subslide"
    },
    "tags": []
   },
   "source": [
    "### Volcano plot"
   ]
  },
  {
   "cell_type": "markdown",
   "id": "8e947a3c-72f8-4fea-95c8-8333bc17914a",
   "metadata": {
    "slideshow": {
     "slide_type": "skip"
    },
    "tags": []
   },
   "source": [
    "Visualize the result of the previous analysis in a volcano plot."
   ]
  },
  {
   "cell_type": "markdown",
   "id": "bdf33b0a-f59d-44fc-a3fc-24382c0e9b6d",
   "metadata": {
    "slideshow": {
     "slide_type": "skip"
    },
    "tags": []
   },
   "source": [
    "**What to look for:**  \n",
    "\n",
    "- Proteins with significantly different abundance across the tested classes.\n",
    "\n",
    "Do not over-interpret mean(log2(fold change)).\n",
    "\n",
    "Be very carefull drawing any conclusion based on identifications that don't meet the significance threshold (i.e. remember that we are only testing to reject the null hypothesis)!"
   ]
  },
  {
   "cell_type": "code",
   "execution_count": null,
   "id": "81741891-0633-4417-bea2-6038eb96b3c8",
   "metadata": {
    "slideshow": {
     "slide_type": "fragment"
    },
    "tags": []
   },
   "outputs": [],
   "source": [
    "lux.plot_volcano(class_label1, class_label2)"
   ]
  },
  {
   "cell_type": "markdown",
   "id": "08c6e3de-48f0-486b-8e82-b83f3f6f61d6",
   "metadata": {
    "slideshow": {
     "slide_type": "subslide"
    },
    "tags": []
   },
   "source": [
    "### Membrane enrichment of differentially abundant proteins"
   ]
  },
  {
   "cell_type": "markdown",
   "id": "5e422a44-ea6d-48d9-add2-52fcd80ce7d3",
   "metadata": {
    "slideshow": {
     "slide_type": "skip"
    },
    "tags": []
   },
   "source": [
    "We visualize the membrane enrichment in the significantly changing proteins."
   ]
  },
  {
   "cell_type": "markdown",
   "id": "af9a4765-8c50-47ea-abed-c695c6ed38f7",
   "metadata": {
    "slideshow": {
     "slide_type": "skip"
    },
    "tags": []
   },
   "source": [
    "**NOTA BENE**  \n",
    "By default only up-regulated proteins are considered. If this is not desired behaviour adjust the side parameter of get_membrane_enrichment():\n",
    "- 0 for both\n",
    "- 1 for up\n",
    "- -1 for down"
   ]
  },
  {
   "cell_type": "markdown",
   "id": "4c8e70e4-29c5-40b3-ba32-7136780f88b2",
   "metadata": {
    "slideshow": {
     "slide_type": "skip"
    },
    "tags": []
   },
   "source": [
    "**What to look for:**  \n",
    "\n",
    "- We would like to see that the majority of significantly enriched proteins are membrane proteins"
   ]
  },
  {
   "cell_type": "code",
   "execution_count": null,
   "id": "239da862-ee22-4a65-8646-3f173f74c385",
   "metadata": {
    "slideshow": {
     "slide_type": "fragment"
    },
    "tags": []
   },
   "outputs": [],
   "source": [
    "lux.get_membrane_enrichment(side=1, fc_cutoff=2)"
   ]
  },
  {
   "cell_type": "markdown",
   "id": "d93643cd-062a-43ee-9b5e-8154ec8220df",
   "metadata": {
    "slideshow": {
     "slide_type": "subslide"
    },
    "tags": []
   },
   "source": [
    "### Intensity distributions of differentially abundant proteins"
   ]
  },
  {
   "cell_type": "markdown",
   "id": "72f2d203-47df-417d-85a3-7801aea2f6ec",
   "metadata": {
    "slideshow": {
     "slide_type": "skip"
    },
    "tags": []
   },
   "source": [
    "We plot the intensity of differentially abundant proteins against the overall protein abundance distributions."
   ]
  },
  {
   "cell_type": "markdown",
   "id": "00e8ed6e-4486-47e5-946a-296dfbc9c56d",
   "metadata": {
    "slideshow": {
     "slide_type": "skip"
    },
    "tags": []
   },
   "source": [
    "**What to look for:**  \n",
    "\n",
    "- How does the intensity of differentially abundant proteins compare to overall protein abundances? Are they actually enriched in one of the conditions?"
   ]
  },
  {
   "cell_type": "markdown",
   "id": "cefdff2c-e55d-4295-b008-fa08a300d73b",
   "metadata": {
    "slideshow": {
     "slide_type": "skip"
    },
    "tags": []
   },
   "source": [
    "NOTE: The legend is sorted by log odds."
   ]
  },
  {
   "cell_type": "code",
   "execution_count": null,
   "id": "bfe0d591-7e30-4309-8bd0-667d9f56b62a",
   "metadata": {
    "slideshow": {
     "slide_type": "fragment"
    },
    "tags": []
   },
   "outputs": [],
   "source": [
    "lux.plot_interactive_intensity_of_significantly_changed_proteins(p_cutoff=0.01, fc_cutoff=1)"
   ]
  },
  {
   "cell_type": "markdown",
   "id": "8b67cb32-e3b4-4d41-97db-88e7a4391f32",
   "metadata": {
    "slideshow": {
     "slide_type": "subslide"
    },
    "tags": []
   },
   "source": [
    "### Heatmap visualization of differentially abundant proteins"
   ]
  },
  {
   "cell_type": "markdown",
   "id": "e0f22847-f765-4b56-97fe-dc26e1bf7b87",
   "metadata": {
    "slideshow": {
     "slide_type": "skip"
    },
    "tags": []
   },
   "source": [
    "We visualize the intensity of differentially abundant proteins as a heatmap"
   ]
  },
  {
   "cell_type": "code",
   "execution_count": null,
   "id": "10a087b6-167c-42ce-bd3e-5dab9cad73fc",
   "metadata": {
    "slideshow": {
     "slide_type": "fragment"
    },
    "tags": []
   },
   "outputs": [],
   "source": [
    "lux.plot_clustermap_of_significantly_changed_proteins(p_cutoff=0.01)"
   ]
  },
  {
   "cell_type": "markdown",
   "id": "f8ffefa0-1504-4be1-a835-4abc5e2f384c",
   "metadata": {
    "slideshow": {
     "slide_type": "subslide"
    },
    "tags": []
   },
   "source": [
    "### Gene Ontology Enrichment analysis of differentially abundant proteins"
   ]
  },
  {
   "cell_type": "markdown",
   "id": "466234d3-0f0c-47cb-b341-c66e4e96acfa",
   "metadata": {
    "slideshow": {
     "slide_type": "skip"
    },
    "tags": []
   },
   "source": [
    "Look for GO term enrichment in the differentially abundant proteins"
   ]
  },
  {
   "cell_type": "markdown",
   "id": "9eef41c2-b1bf-4e83-87bd-848b4d2968fe",
   "metadata": {
    "slideshow": {
     "slide_type": "skip"
    },
    "tags": []
   },
   "source": [
    "**What to look for:**  \n",
    "\n",
    "- Terms associated with plasma membrane or the process being investigated."
   ]
  },
  {
   "cell_type": "code",
   "execution_count": null,
   "id": "96bf4fd7-5c3b-4493-860d-e7e1ee4af6c1",
   "metadata": {
    "slideshow": {
     "slide_type": "skip"
    },
    "tags": []
   },
   "outputs": [],
   "source": [
    "goa.run_go_enrichment_on_top_table(lux.top_table, top_table_p_cutoff=0.01, top_table_fc_cutoff=1)"
   ]
  },
  {
   "cell_type": "code",
   "execution_count": null,
   "id": "edea4bd7-e006-489f-909d-c44c2b70740a",
   "metadata": {
    "slideshow": {
     "slide_type": "fragment"
    },
    "tags": []
   },
   "outputs": [],
   "source": [
    "if goa.go_results:\n",
    "    sig_go = goa.go_results_df[goa.go_results_df['p_bonferroni'] < 0.05]\n",
    "    sig_go"
   ]
  },
  {
   "cell_type": "markdown",
   "id": "18af6a0b-86df-4515-ab72-8bcbd6293ac0",
   "metadata": {
    "slideshow": {
     "slide_type": "subslide"
    },
    "tags": []
   },
   "source": [
    "## Proteins unique to one class"
   ]
  },
  {
   "cell_type": "markdown",
   "id": "2eb79ea0-b780-4ac0-b43b-fad984ad229f",
   "metadata": {
    "slideshow": {
     "slide_type": "skip"
    },
    "tags": []
   },
   "source": [
    "If a protein is only present in one of the 2 classes, it will be missing in the results of the Bayes moderated t-test. Let's look at them separately."
   ]
  },
  {
   "cell_type": "markdown",
   "id": "3b92370a-b405-43fe-b9a8-3dce9a95b365",
   "metadata": {
    "slideshow": {
     "slide_type": "skip"
    },
    "tags": []
   },
   "source": [
    "### Protein abundance distributions\n",
    "\n",
    "Plot the intensity of proteins unique to one class as a barplot."
   ]
  },
  {
   "cell_type": "markdown",
   "id": "a812e19a-8f93-43b2-ac35-61237d1749c0",
   "metadata": {
    "slideshow": {
     "slide_type": "skip"
    },
    "tags": []
   },
   "source": [
    "**What to look for:**  \n",
    "\n",
    "- Compare the intensity of  "
   ]
  },
  {
   "cell_type": "code",
   "execution_count": null,
   "id": "13afaef9-5743-45b8-8f40-d24d7837a33e",
   "metadata": {
    "slideshow": {
     "slide_type": "fragment"
    },
    "tags": []
   },
   "outputs": [],
   "source": [
    "lux.plot_interactive_singularities(class_label1, class_label2)"
   ]
  },
  {
   "cell_type": "markdown",
   "id": "91783dae-41d7-4e66-b48d-b9e76ec7b019",
   "metadata": {
    "slideshow": {
     "slide_type": "subslide"
    },
    "tags": []
   },
   "source": [
    "### Membrane enrichment of unique proteins"
   ]
  },
  {
   "cell_type": "markdown",
   "id": "2c1edf56-dbdb-42a9-bc58-da1f8bac5f77",
   "metadata": {
    "slideshow": {
     "slide_type": "skip"
    },
    "tags": []
   },
   "source": [
    "We visualize the membrane enrichment in the significantly changing proteins."
   ]
  },
  {
   "cell_type": "markdown",
   "id": "071b885c-95c1-4d76-a9d4-476ead713493",
   "metadata": {
    "slideshow": {
     "slide_type": "skip"
    },
    "tags": []
   },
   "source": [
    "**NOTA BENE**  \n",
    "By default only proteins unique to class_label1 are considered. If this is not desired behaviour adjust the cls parameter of get_membrane_enrichment_singularities():\n",
    "- 1 for class_label1\n",
    "- 2 for class_label2"
   ]
  },
  {
   "cell_type": "markdown",
   "id": "adc79b83-2947-4553-9f86-6f53635c27cf",
   "metadata": {
    "slideshow": {
     "slide_type": "skip"
    },
    "tags": []
   },
   "source": [
    "**What to look for:**  \n",
    "\n",
    "- We would like to see that the majority of significantly enriched proteins are membrane proteins"
   ]
  },
  {
   "cell_type": "code",
   "execution_count": null,
   "id": "ba6e9646-4dac-4368-8f2d-e69b8817d8c3",
   "metadata": {
    "slideshow": {
     "slide_type": "fragment"
    },
    "tags": []
   },
   "outputs": [],
   "source": [
    "lux.get_membrane_enrichment_singularities()"
   ]
  },
  {
   "cell_type": "markdown",
   "id": "e110b72a-b842-48bb-9f18-0dc905c029a8",
   "metadata": {
    "slideshow": {
     "slide_type": "slide"
    },
    "tags": []
   },
   "source": [
    "## Peptide level"
   ]
  },
  {
   "cell_type": "markdown",
   "id": "4615e5dd-b903-4b6e-979a-dfd9e5797d51",
   "metadata": {
    "slideshow": {
     "slide_type": "skip"
    },
    "tags": []
   },
   "source": [
    "### Summary peptide table\n",
    "\n",
    "Generate a table summarizing all peptides for the significant and singularity proteins."
   ]
  },
  {
   "cell_type": "code",
   "execution_count": null,
   "id": "20f02ce7-77dd-497c-921b-ea15ceff523b",
   "metadata": {
    "slideshow": {
     "slide_type": "subslide"
    },
    "tags": []
   },
   "outputs": [],
   "source": [
    "HTML(lux.protter_table())"
   ]
  }
 ],
 "metadata": {
  "kernelspec": {
   "display_name": "Python 3 (ipykernel)",
   "language": "python",
   "name": "python3"
  },
  "language_info": {
   "codemirror_mode": {
    "name": "ipython",
    "version": 3
   },
   "file_extension": ".py",
   "mimetype": "text/x-python",
   "name": "python",
   "nbconvert_exporter": "python",
   "pygments_lexer": "ipython3",
   "version": "3.12.9"
  }
 },
 "nbformat": 4,
 "nbformat_minor": 5
}
